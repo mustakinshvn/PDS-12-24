{
 "cells": [
  {
   "cell_type": "code",
   "execution_count": null,
   "metadata": {
    "_cell_guid": "b1076dfc-b9ad-4769-8c92-a6c4dae69d19",
    "_uuid": "8f2839f25d086af736a60e9eeb907d3b93b6e0e5",
    "execution": {
     "iopub.execute_input": "2025-01-29T18:05:25.877980Z",
     "iopub.status.busy": "2025-01-29T18:05:25.877549Z",
     "iopub.status.idle": "2025-01-29T18:05:26.062451Z",
     "shell.execute_reply": "2025-01-29T18:05:26.058440Z",
     "shell.execute_reply.started": "2025-01-29T18:05:25.877935Z"
    },
    "trusted": true
   },
   "outputs": [],
   "source": [
    "# This Python 3 environment comes with many helpful analytics libraries installed\n",
    "# It is defined by the kaggle/python Docker image: https://github.com/kaggle/docker-python\n",
    "# For example, here's several helpful packages to load\n",
    "\n",
    "import numpy as np # linear algebra\n",
    "import pandas as pd # data processing, CSV file I/O (e.g. pd.read_csv)\n",
    "\n",
    "# Input data files are available in the read-only \"../input/\" directory\n",
    "# For example, running this (by clicking run or pressing Shift+Enter) will list all files under the input directory\n",
    "\n",
    "import os\n",
    "for dirname, _, filenames in os.walk('/kaggle/input'):\n",
    "    for filename in filenames:\n",
    "        print(os.path.join(dirname, filename))\n",
    "\n",
    "# You can write up to 20GB to the current directory (/kaggle/working/) that gets preserved as output when you create a version using \"Save & Run All\" \n",
    "# You can also write temporary files to /kaggle/temp/, but they won't be saved outside of the current session"
   ]
  },
  {
   "cell_type": "markdown",
   "metadata": {},
   "source": [
    "This section imports the necessary libraries for data processing and deep learning."
   ]
  },
  {
   "cell_type": "code",
   "execution_count": null,
   "metadata": {
    "execution": {
     "iopub.execute_input": "2025-01-29T18:05:43.939592Z",
     "iopub.status.busy": "2025-01-29T18:05:43.939222Z",
     "iopub.status.idle": "2025-01-29T18:05:43.944019Z",
     "shell.execute_reply": "2025-01-29T18:05:43.942730Z",
     "shell.execute_reply.started": "2025-01-29T18:05:43.939564Z"
    },
    "trusted": true
   },
   "outputs": [],
   "source": [
    "import numpy as np\n"
   ]
  },
  {
   "cell_type": "code",
   "execution_count": null,
   "metadata": {
    "execution": {
     "iopub.execute_input": "2025-01-29T18:05:44.963096Z",
     "iopub.status.busy": "2025-01-29T18:05:44.962722Z",
     "iopub.status.idle": "2025-01-29T18:06:00.446924Z",
     "shell.execute_reply": "2025-01-29T18:06:00.445967Z",
     "shell.execute_reply.started": "2025-01-29T18:05:44.963064Z"
    },
    "trusted": true
   },
   "outputs": [],
   "source": [
    "import matplotlib.pyplot as plt\n",
    "import tensorflow as tf\n",
    "import cv2\n",
    "import os"
   ]
  },
  {
   "cell_type": "code",
   "execution_count": null,
   "metadata": {
    "execution": {
     "iopub.execute_input": "2025-01-29T18:06:00.448959Z",
     "iopub.status.busy": "2025-01-29T18:06:00.448297Z",
     "iopub.status.idle": "2025-01-29T18:06:00.527848Z",
     "shell.execute_reply": "2025-01-29T18:06:00.526831Z",
     "shell.execute_reply.started": "2025-01-29T18:06:00.448932Z"
    },
    "trusted": true
   },
   "outputs": [],
   "source": [
    "from tensorflow.keras.models import Sequential\n",
    "from tensorflow.keras.layers import Conv2D, MaxPooling2D, Flatten, Dense, Dropout\n",
    "from tensorflow.keras.preprocessing.image import ImageDataGenerator\n",
    "from tensorflow.keras.preprocessing import image"
   ]
  },
  {
   "cell_type": "markdown",
   "metadata": {},
   "source": [
    "We define the dataset path and set up image augmentation to improve model performance.\n"
   ]
  },
  {
   "cell_type": "code",
   "execution_count": null,
   "metadata": {
    "execution": {
     "iopub.execute_input": "2025-01-29T18:27:08.458113Z",
     "iopub.status.busy": "2025-01-29T18:27:08.457732Z",
     "iopub.status.idle": "2025-01-29T18:27:08.463479Z",
     "shell.execute_reply": "2025-01-29T18:27:08.462080Z",
     "shell.execute_reply.started": "2025-01-29T18:27:08.458086Z"
    },
    "trusted": true
   },
   "outputs": [],
   "source": [
    "data_dir = \"/kaggle/input/bottle-cap-classification\"  \n",
    "\n",
    "img_size = (128, 128)\n",
    "batch_size = 32\n",
    "\n",
    "datagen = ImageDataGenerator(\n",
    "    rescale=1.0/255.0,\n",
    "    validation_split=0.2  \n",
    ")"
   ]
  },
  {
   "cell_type": "markdown",
   "metadata": {},
   "source": [
    "Load training and validation data"
   ]
  },
  {
   "cell_type": "code",
   "execution_count": null,
   "metadata": {
    "execution": {
     "iopub.execute_input": "2025-01-29T18:27:14.809915Z",
     "iopub.status.busy": "2025-01-29T18:27:14.809413Z",
     "iopub.status.idle": "2025-01-29T18:27:15.779249Z",
     "shell.execute_reply": "2025-01-29T18:27:15.778197Z",
     "shell.execute_reply.started": "2025-01-29T18:27:14.809881Z"
    },
    "trusted": true
   },
   "outputs": [],
   "source": [
    "train_data = datagen.flow_from_directory(\n",
    "    data_dir,\n",
    "    target_size=img_size,\n",
    "    batch_size=batch_size,\n",
    "    class_mode='binary',\n",
    "    subset='training'\n",
    ")\n",
    "\n",
    "val_data = datagen.flow_from_directory(\n",
    "    data_dir,\n",
    "    target_size=img_size,\n",
    "    batch_size=batch_size,\n",
    "    class_mode='binary',\n",
    "    subset='validation'\n",
    ")"
   ]
  },
  {
   "cell_type": "markdown",
   "metadata": {},
   "source": [
    "Found 615 images belonging to 1 classes.\n",
    "Found 153 images belonging to 1 classes.\n",
    "\n",
    "We define a Convolutional Neural Network (CNN) model with multiple layers to classify bottle caps.\n"
   ]
  },
  {
   "cell_type": "code",
   "execution_count": null,
   "metadata": {
    "execution": {
     "iopub.execute_input": "2025-01-29T18:27:46.245750Z",
     "iopub.status.busy": "2025-01-29T18:27:46.245313Z",
     "iopub.status.idle": "2025-01-29T18:27:46.342917Z",
     "shell.execute_reply": "2025-01-29T18:27:46.341864Z",
     "shell.execute_reply.started": "2025-01-29T18:27:46.245720Z"
    },
    "trusted": true
   },
   "outputs": [],
   "source": [
    "model = Sequential([\n",
    "    Conv2D(32, (3,3), activation='relu', input_shape=(128,128,3)), \n",
    "    MaxPooling2D(2,2),  \n",
    "    Conv2D(64, (3,3), activation='relu'), \n",
    "    MaxPooling2D(2,2),  \n",
    "    Flatten(),  \n",
    "    Dense(128, activation='relu'),  \n",
    "    Dropout(0.5), \n",
    "    Dense(1, activation='sigmoid') \n",
    "])\n"
   ]
  },
  {
   "cell_type": "code",
   "execution_count": null,
   "metadata": {
    "execution": {
     "iopub.execute_input": "2025-01-29T18:52:38.309398Z",
     "iopub.status.busy": "2025-01-29T18:52:38.309060Z",
     "iopub.status.idle": "2025-01-29T18:52:38.337601Z",
     "shell.execute_reply": "2025-01-29T18:52:38.336168Z",
     "shell.execute_reply.started": "2025-01-29T18:52:38.309365Z"
    },
    "trusted": true
   },
   "outputs": [],
   "source": [
    "model.compile(optimizer='adam', loss='binary_crossentropy', metrics=['accuracy'])\n"
   ]
  },
  {
   "cell_type": "code",
   "execution_count": null,
   "metadata": {
    "execution": {
     "iopub.execute_input": "2025-01-29T18:40:53.933448Z",
     "iopub.status.busy": "2025-01-29T18:40:53.933072Z",
     "iopub.status.idle": "2025-01-29T18:52:38.295169Z",
     "shell.execute_reply": "2025-01-29T18:52:38.293751Z",
     "shell.execute_reply.started": "2025-01-29T18:40:53.933421Z"
    },
    "trusted": true
   },
   "outputs": [],
   "source": [
    "epochs = 10\n",
    "history = model.fit(\n",
    "    train_data,\n",
    "    validation_data=val_data,\n",
    "    epochs=epochs\n",
    ")"
   ]
  },
  {
   "cell_type": "markdown",
   "metadata": {},
   "source": [
    "After training, we save the model and visualize its accuracy over epochs.\n"
   ]
  },
  {
   "cell_type": "code",
   "execution_count": null,
   "metadata": {
    "execution": {
     "iopub.execute_input": "2025-01-29T19:08:40.821824Z",
     "iopub.status.busy": "2025-01-29T19:08:40.821432Z",
     "iopub.status.idle": "2025-01-29T19:08:40.916313Z",
     "shell.execute_reply": "2025-01-29T19:08:40.915109Z",
     "shell.execute_reply.started": "2025-01-29T19:08:40.821794Z"
    },
    "trusted": true
   },
   "outputs": [],
   "source": [
    "model.save(\"bottle_cap_model.h5\")\n"
   ]
  },
  {
   "cell_type": "code",
   "execution_count": null,
   "metadata": {
    "execution": {
     "iopub.execute_input": "2025-01-29T19:08:49.842310Z",
     "iopub.status.busy": "2025-01-29T19:08:49.841852Z",
     "iopub.status.idle": "2025-01-29T19:08:50.166280Z",
     "shell.execute_reply": "2025-01-29T19:08:50.164825Z",
     "shell.execute_reply.started": "2025-01-29T19:08:49.842274Z"
    },
    "trusted": true
   },
   "outputs": [],
   "source": [
    "plt.plot(history.history['accuracy'], label='train accuracy')\n",
    "plt.plot(history.history['val_accuracy'], label='val accuracy')\n",
    "plt.xlabel('Epochs')\n",
    "plt.ylabel('Accuracy')\n",
    "plt.legend()\n",
    "plt.show()"
   ]
  },
  {
   "cell_type": "markdown",
   "metadata": {},
   "source": [
    "We load the trained model and test it on a new image for classification.\n"
   ]
  },
  {
   "cell_type": "code",
   "execution_count": null,
   "metadata": {
    "execution": {
     "iopub.execute_input": "2025-01-29T19:09:31.397521Z",
     "iopub.status.busy": "2025-01-29T19:09:31.397145Z",
     "iopub.status.idle": "2025-01-29T19:09:31.404912Z",
     "shell.execute_reply": "2025-01-29T19:09:31.403210Z",
     "shell.execute_reply.started": "2025-01-29T19:09:31.397489Z"
    },
    "trusted": true
   },
   "outputs": [],
   "source": [
    "def predict_bottle_cap(image_path, model):\n",
    "    img = image.load_img(image_path, target_size=(128, 128))\n",
    "    img_array = image.img_to_array(img) / 255.0\n",
    "    img_array = np.expand_dims(img_array, axis=0)\n",
    "    \n",
    "    prediction = model.predict(img_array)\n",
    "    return \"Tilted Cap\" if prediction > 0.5 else \"Sealed Cap\""
   ]
  },
  {
   "cell_type": "code",
   "execution_count": null,
   "metadata": {
    "execution": {
     "iopub.execute_input": "2025-01-29T19:19:36.285028Z",
     "iopub.status.busy": "2025-01-29T19:19:36.284564Z",
     "iopub.status.idle": "2025-01-29T19:19:36.438982Z",
     "shell.execute_reply": "2025-01-29T19:19:36.437381Z",
     "shell.execute_reply.started": "2025-01-29T19:19:36.284998Z"
    },
    "trusted": true
   },
   "outputs": [],
   "source": [
    "loaded_model = tf.keras.models.load_model(\"bottle_cap_model.h5\")"
   ]
  },
  {
   "cell_type": "code",
   "execution_count": null,
   "metadata": {
    "execution": {
     "iopub.execute_input": "2025-01-29T19:20:29.633842Z",
     "iopub.status.busy": "2025-01-29T19:20:29.633412Z",
     "iopub.status.idle": "2025-01-29T19:20:29.643708Z",
     "shell.execute_reply": "2025-01-29T19:20:29.642086Z",
     "shell.execute_reply.started": "2025-01-29T19:20:29.633813Z"
    },
    "trusted": true
   },
   "outputs": [],
   "source": [
    "import os\n",
    "\n",
    "image_folder = \"/kaggle/input/test-data\" \n",
    "print(\"Files in directory:\", os.listdir(image_folder))\n"
   ]
  },
  {
   "cell_type": "code",
   "execution_count": null,
   "metadata": {
    "execution": {
     "iopub.execute_input": "2025-01-29T19:21:11.009478Z",
     "iopub.status.busy": "2025-01-29T19:21:11.009046Z",
     "iopub.status.idle": "2025-01-29T19:21:11.273397Z",
     "shell.execute_reply": "2025-01-29T19:21:11.271978Z",
     "shell.execute_reply.started": "2025-01-29T19:21:11.009450Z"
    },
    "trusted": true
   },
   "outputs": [],
   "source": [
    "image_path = \"/kaggle/input/test-data/Plastic_Bottle_Cap.JPG\"  \n",
    "result = predict_bottle_cap(image_path, loaded_model)\n",
    "print(\"Prediction:\", result)\n"
   ]
  },
  {
   "cell_type": "code",
   "execution_count": null,
   "metadata": {
    "trusted": true
   },
   "outputs": [],
   "source": []
  }
 ],
 "metadata": {
  "kaggle": {
   "accelerator": "none",
   "dataSources": [
    {
     "datasetId": 3103210,
     "sourceId": 5344662,
     "sourceType": "datasetVersion"
    },
    {
     "datasetId": 6570017,
     "sourceId": 10612353,
     "sourceType": "datasetVersion"
    }
   ],
   "dockerImageVersionId": 30839,
   "isGpuEnabled": false,
   "isInternetEnabled": true,
   "language": "python",
   "sourceType": "notebook"
  },
  "kernelspec": {
   "display_name": "Python 3",
   "language": "python",
   "name": "python3"
  },
  "language_info": {
   "codemirror_mode": {
    "name": "ipython",
    "version": 3
   },
   "file_extension": ".py",
   "mimetype": "text/x-python",
   "name": "python",
   "nbconvert_exporter": "python",
   "pygments_lexer": "ipython3",
   "version": "3.10.12"
  }
 },
 "nbformat": 4,
 "nbformat_minor": 4
}
